{
 "cells": [
  {
   "cell_type": "code",
   "execution_count": 1,
   "metadata": {},
   "outputs": [],
   "source": [
    "import os\n",
    "import sys\n",
    "import numpy as np\n",
    "from time import strftime\n",
    "from shutil import copyfile\n",
    "from xml.etree import ElementTree as ET"
   ]
  },
  {
   "cell_type": "code",
   "execution_count": 2,
   "metadata": {},
   "outputs": [],
   "source": [
    "def get_datetime_from_xml(xml_file):\n",
    "    tree = ET.parse(xml_file)\n",
    "    root = tree.getroot()\n",
    "    datetime = root.get('date')\n",
    "    # will look like \"4/2/2019 4:16:03 PM\" to start\n",
    "\n",
    "    # Get dates\n",
    "    date = datetime.split(' ')[0]\n",
    "    month = date.split('/')[0]\n",
    "    day = date.split('/')[1]\n",
    "    year = date.split('/')[2]\n",
    "\n",
    "    # Get times\n",
    "    time = datetime.split(' ')[1]\n",
    "    hour = time.split(':')[0]\n",
    "    minute = time.split(':')[1]\n",
    "    second = time.split(':')[2]\n",
    "\n",
    "    # Convert from 12 to 24 hour time\n",
    "    am_pm = datetime.split(' ')[-1]\n",
    "    print(am_pm)\n",
    "    if am_pm == 'AM' and hour == 12:\n",
    "        hour = str(00)\n",
    "    elif am_pm == 'AM':\n",
    "        pass\n",
    "    elif am_pm == 'PM' and hour == 12:\n",
    "        pass\n",
    "    else:\n",
    "        hour = str(int(hour) + 12)\n",
    "\n",
    "    # Add zeros if needed\n",
    "    if len(month) == 1:\n",
    "        month = '0' + month\n",
    "    if len(day) == 1:\n",
    "        day = '0' + day\n",
    "    if len(hour) == 1:\n",
    "        hour = '0' + hour\n",
    "\n",
    "\n",
    "    # Combine\n",
    "    datetime_str = year + month + day + '-' + hour + minute + second\n",
    "    datetime_int = int(year + month + day + hour + minute + second)\n",
    "    datetime_dict = {'year': year,\n",
    "                     'month': month,\n",
    "                     'day': day,\n",
    "                     'hour': hour,\n",
    "                     'minute': minute,\n",
    "                     'second': second}\n",
    "\n",
    "    return datetime_str, datetime_int, datetime_dict"
   ]
  },
  {
   "cell_type": "code",
   "execution_count": null,
   "metadata": {},
   "outputs": [],
   "source": []
  },
  {
   "cell_type": "code",
   "execution_count": 3,
   "metadata": {},
   "outputs": [],
   "source": [
    "xml_file = '/Users/lukebrezovec/Downloads/TSeries-04232019-0915-001.xml'"
   ]
  },
  {
   "cell_type": "code",
   "execution_count": 4,
   "metadata": {},
   "outputs": [
    {
     "name": "stdout",
     "output_type": "stream",
     "text": [
      "PM\n"
     ]
    }
   ],
   "source": [
    "datetime_str, datetime_int, datetime_dict = get_datetime_from_xml(xml_file)"
   ]
  },
  {
   "cell_type": "code",
   "execution_count": 5,
   "metadata": {},
   "outputs": [
    {
     "data": {
      "text/plain": [
       "{'year': '2019',\n",
       " 'month': '04',\n",
       " 'day': '23',\n",
       " 'hour': '24',\n",
       " 'minute': '10',\n",
       " 'second': '53'}"
      ]
     },
     "execution_count": 5,
     "metadata": {},
     "output_type": "execute_result"
    }
   ],
   "source": [
    "datetime_dict"
   ]
  },
  {
   "cell_type": "code",
   "execution_count": null,
   "metadata": {},
   "outputs": [],
   "source": [
    "date=\"4/23/2019 12:10:53 PM\""
   ]
  }
 ],
 "metadata": {
  "kernelspec": {
   "display_name": "Python 3",
   "language": "python",
   "name": "python3"
  },
  "language_info": {
   "codemirror_mode": {
    "name": "ipython",
    "version": 3
   },
   "file_extension": ".py",
   "mimetype": "text/x-python",
   "name": "python",
   "nbconvert_exporter": "python",
   "pygments_lexer": "ipython3",
   "version": "3.7.0"
  }
 },
 "nbformat": 4,
 "nbformat_minor": 2
}
